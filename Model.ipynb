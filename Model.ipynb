{
 "cells": [
  {
   "cell_type": "code",
   "execution_count": 7,
   "metadata": {},
   "outputs": [
    {
     "name": "stdout",
     "output_type": "stream",
     "text": [
      "\n",
      "\n",
      "\n",
      "ONLY A GIRL'S LOVE\n",
      "\n",
      "by\n",
      "\n",
      "CHARLES GARVICE\n",
      "\n",
      "\n",
      "\n",
      "\n",
      "\n",
      "\n",
      "\n",
      "[Illustration]\n",
      "\n",
      "New York\n",
      "Street & Smith, Publishers\n",
      "\n",
      "The S. & S. Novels Have No Rivals\n",
      "\n",
      "\n",
      "STREET & SMITH, _Publishers_\n",
      "NEW YORK\n",
      "\n",
      "\n",
      "ONLY A GIRL'S LOVE.\n",
      "\n",
      "['\\n', ' ', '!', '\"', '&', \"'\", '*', ',', '-', '.', '2', '4', ':', ';', '?', 'A', 'B', 'C', 'D', 'E', 'F', 'G', 'H', 'I', 'J', 'K', 'L', 'M', 'N', 'O', 'P', 'Q', 'R', 'S', 'T', 'U', 'V', 'W', 'X', 'Y', '[', ']', '_', 'a', 'b', 'c', 'd', 'e', 'f', 'g', 'h', 'i', 'j', 'k', 'l', 'm', 'n', 'o', 'p', 'q', 'r', 's', 't', 'u', 'v', 'w', 'x', 'y', 'z', 'æ', 'ê', '\\ufeff']\n",
      "72\n"
     ]
    }
   ],
   "source": [
    "with open('wizardLLM.txt','r',encoding='utf-8') as f:\n",
    "    # for reading the file\n",
    "    text=f.read()\n",
    "    # for printing the 1st 200 texts\n",
    "print(text[:200])\n",
    "\n",
    "# now making a sorted array set for the characters\n",
    "chars=sorted(set(text))\n",
    "print(chars)\n",
    "# printing the length of chars\n",
    "print(len(chars))"
   ]
  },
  {
   "cell_type": "code",
   "execution_count": null,
   "id": "4c14f65b",
   "metadata": {},
   "outputs": [],
   "source": []
  }
 ],
 "metadata": {
  "kernelspec": {
   "display_name": "Python 3",
   "language": "python",
   "name": "python3"
  },
  "language_info": {
   "codemirror_mode": {
    "name": "ipython",
    "version": 3
   },
   "file_extension": ".py",
   "mimetype": "text/x-python",
   "name": "python",
   "nbconvert_exporter": "python",
   "pygments_lexer": "ipython3",
   "version": "3.12.4"
  }
 },
 "nbformat": 4,
 "nbformat_minor": 5
}
