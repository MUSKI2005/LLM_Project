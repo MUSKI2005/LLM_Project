{
 "cells": [
  {
   "cell_type": "code",
   "execution_count": 9,
   "id": "d8bde399",
   "metadata": {},
   "outputs": [
    {
     "name": "stdout",
     "output_type": "stream",
     "text": [
      "CUDA Available: False\n",
      "Torch Version: 2.7.0+cpu\n",
      "Device Name: No GPU\n"
     ]
    }
   ],
   "source": [
    "import torch\n",
    "print(\"CUDA Available:\", torch.cuda.is_available())\n",
    "print(\"Torch Version:\", torch.__version__)\n",
    "print(\"Device Name:\", torch.cuda.get_device_name(0) if torch.cuda.is_available() else \"No GPU\")\n",
    "\n",
    "\n"
   ]
  },
  {
   "cell_type": "code",
   "execution_count": 4,
   "metadata": {},
   "outputs": [
    {
     "name": "stdout",
     "output_type": "stream",
     "text": [
      "\n",
      "\n",
      "\n",
      "ONLY A GIRL'S LOVE\n",
      "\n",
      "by\n",
      "\n",
      "CHARLES GARVICE\n",
      "\n",
      "\n",
      "\n",
      "\n",
      "\n",
      "\n",
      "\n",
      "[Illustration]\n",
      "\n",
      "New York\n",
      "Street & Smith, Publishers\n",
      "\n",
      "The S. & S. Novels Have No Rivals\n",
      "\n",
      "\n",
      "STREET & SMITH, _Publishers_\n",
      "NEW YORK\n",
      "\n",
      "\n",
      "ONLY A GIRL'S LOVE.\n",
      "\n",
      "['\\n', ' ', '!', '\"', '&', \"'\", '*', ',', '-', '.', '2', '4', ':', ';', '?', 'A', 'B', 'C', 'D', 'E', 'F', 'G', 'H', 'I', 'J', 'K', 'L', 'M', 'N', 'O', 'P', 'Q', 'R', 'S', 'T', 'U', 'V', 'W', 'X', 'Y', '[', ']', '_', 'a', 'b', 'c', 'd', 'e', 'f', 'g', 'h', 'i', 'j', 'k', 'l', 'm', 'n', 'o', 'p', 'q', 'r', 's', 't', 'u', 'v', 'w', 'x', 'y', 'z', 'æ', 'ê', '\\ufeff']\n",
      "72\n"
     ]
    }
   ],
   "source": [
    "with open('wizardLLM.txt','r',encoding='utf-8') as f:\n",
    "    # for reading the file\n",
    "    text=f.read()\n",
    "    # for printing the 1st 200 texts\n",
    "print(text[:200])\n",
    "\n",
    "# now making a sorted array set for the characters\n",
    "chars=sorted(set(text))\n",
    "print(chars)\n",
    "# printing the length of chars\n",
    "print(len(chars))"
   ]
  },
  {
   "cell_type": "code",
   "execution_count": 5,
   "id": "4c14f65b",
   "metadata": {},
   "outputs": [
    {
     "name": "stdout",
     "output_type": "stream",
     "text": [
      "hello\n",
      "tensor([71,  0,  0,  0, 29, 28, 26, 39,  1, 15,  1, 21, 23, 32, 26,  5, 33,  1,\n",
      "        26, 29, 36, 19,  0,  0, 44, 67,  0,  0, 17, 22, 15, 32, 26, 19, 33,  1,\n",
      "        21, 15, 32, 36, 23, 17, 19,  0,  0,  0,  0,  0,  0,  0,  0, 40, 23, 54,\n",
      "        54, 63, 61, 62, 60, 43, 62, 51, 57, 56, 41,  0,  0, 28, 47, 65,  1, 39,\n",
      "        57, 60, 53,  0, 33, 62, 60, 47, 47, 62,  1,  4,  1, 33, 55, 51, 62, 50,\n",
      "         7,  1, 30, 63, 44, 54, 51, 61, 50, 47])\n"
     ]
    }
   ],
   "source": [
    "string_to_int={ch:i for i,ch in enumerate(chars)}\n",
    "int_to_string={i:ch for i,ch in enumerate(chars)}\n",
    "encode=lambda s:[string_to_int[c] for c in s]\n",
    "decode=lambda l: ''.join([int_to_string[i] for i in l])\n",
    "\n",
    "encoded_hello=encode('hello')\n",
    "decoded_hello=decode(encoded_hello)\n",
    "print(decoded_hello)\n",
    "\n",
    "# more better approach for printing is using tensor\n",
    "data=torch.tensor(encode(text),dtype=torch.long)\n",
    "# printing the 1st 100 integers in the data\n",
    "print(data[:100])"
   ]
  },
  {
   "cell_type": "code",
   "execution_count": null,
   "id": "d07afdd7",
   "metadata": {},
   "outputs": [],
   "source": [
    "# validation and training space\n",
    "# # EXAMPLE\n",
    "# n=int(0.8*len(data))\n",
    "# train_data=data[:n]\n",
    "# val_data=data[:n]\n",
    "# # training is 80% and last 20 % for validation, for the text corpus\n",
    "# # using taraining and validation splits\n"
   ]
  },
  {
   "cell_type": "code",
   "execution_count": 7,
   "id": "f8ce2954",
   "metadata": {},
   "outputs": [
    {
     "name": "stdout",
     "output_type": "stream",
     "text": [
      "when input is  tensor(0) target is tensor(0)\n",
      "when input is  tensor(0) target is tensor(0)\n",
      "when input is  tensor(0) target is tensor(0)\n",
      "when input is  tensor(29) target is tensor(29)\n",
      "when input is  tensor(28) target is tensor(28)\n",
      "when input is  tensor(26) target is tensor(26)\n",
      "when input is  tensor(39) target is tensor(39)\n"
     ]
    },
    {
     "ename": "IndexError",
     "evalue": "index 8 is out of bounds for dimension 0 with size 8",
     "output_type": "error",
     "traceback": [
      "\u001b[31m---------------------------------------------------------------------------\u001b[39m",
      "\u001b[31mIndexError\u001b[39m                                Traceback (most recent call last)",
      "\u001b[36mCell\u001b[39m\u001b[36m \u001b[39m\u001b[32mIn[7]\u001b[39m\u001b[32m, line 7\u001b[39m\n\u001b[32m      4\u001b[39m y=train_data[\u001b[32m1\u001b[39m:block_size+\u001b[32m1\u001b[39m]\n\u001b[32m      6\u001b[39m \u001b[38;5;28;01mfor\u001b[39;00m t \u001b[38;5;129;01min\u001b[39;00m \u001b[38;5;28mrange\u001b[39m(block_size):\n\u001b[32m----> \u001b[39m\u001b[32m7\u001b[39m     context=\u001b[43mx\u001b[49m\u001b[43m[\u001b[49m\u001b[43mt\u001b[49m\u001b[43m+\u001b[49m\u001b[32;43m1\u001b[39;49m\u001b[43m]\u001b[49m\n\u001b[32m      8\u001b[39m     target=y[t]\n\u001b[32m      9\u001b[39m     \u001b[38;5;28mprint\u001b[39m(\u001b[33m'\u001b[39m\u001b[33mwhen input is \u001b[39m\u001b[33m'\u001b[39m,context,\u001b[33m'\u001b[39m\u001b[33mtarget is\u001b[39m\u001b[33m'\u001b[39m, target)\n",
      "\u001b[31mIndexError\u001b[39m: index 8 is out of bounds for dimension 0 with size 8"
     ]
    }
   ],
   "source": [
    "# taking block size\n",
    "block_size=8\n",
    "x=train_data[:block_size]\n",
    "y=train_data[1:block_size+1]\n",
    "\n",
    "for t in range(block_size):\n",
    "    context=x[t+1]\n",
    "    target=y[t]\n",
    "    print('when input is ',context,'target is', target)\n",
    "    \n"
   ]
  }
 ],
 "metadata": {
  "kernelspec": {
   "display_name": "Python 3",
   "language": "python",
   "name": "python3"
  },
  "language_info": {
   "codemirror_mode": {
    "name": "ipython",
    "version": 3
   },
   "file_extension": ".py",
   "mimetype": "text/x-python",
   "name": "python",
   "nbconvert_exporter": "python",
   "pygments_lexer": "ipython3",
   "version": "3.12.4"
  }
 },
 "nbformat": 4,
 "nbformat_minor": 5
}
