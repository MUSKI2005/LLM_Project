{
 "cells": [
  {
   "cell_type": "code",
   "execution_count": 29,
   "id": "d8bde399",
   "metadata": {},
   "outputs": [
    {
     "data": {
      "text/plain": [
       "tensor([ 83, -61,  67, -89,  14,  97])"
      ]
     },
     "execution_count": 29,
     "metadata": {},
     "output_type": "execute_result"
    }
   ],
   "source": [
    "import torch\n",
    "randint=torch.randint(-100,100,(6,))\n",
    "randint"
   ]
  },
  {
   "cell_type": "code",
   "execution_count": null,
   "id": "b7f12caa",
   "metadata": {},
   "outputs": [
    {
     "data": {
      "text/plain": [
       "tensor([[-4.0711e-28,  9.4868e-43,  0.0000e+00],\n",
       "        [ 0.0000e+00,  0.0000e+00,  0.0000e+00]])"
      ]
     },
     "execution_count": 13,
     "metadata": {},
     "output_type": "execute_result"
    }
   ],
   "source": [
    "tensor=torch.tensor([[1,2],[3,4],[5,6]])\n",
    "tensor\n",
    "\n",
    "# directly getting the matrix of zeros of 2 rows and 3 columns\n",
    "# zeros=torch.zeros(2,3)\n",
    "zeros\n"
   ]
  },
  {
   "cell_type": "code",
   "execution_count": 10,
   "id": "2dac206a",
   "metadata": {},
   "outputs": [
    {
     "data": {
      "text/plain": [
       "tensor([[1., 1., 1., 1.],\n",
       "        [1., 1., 1., 1.],\n",
       "        [1., 1., 1., 1.]])"
      ]
     },
     "execution_count": 10,
     "metadata": {},
     "output_type": "execute_result"
    }
   ],
   "source": [
    "ones=torch.ones(3,4)\n",
    "ones"
   ]
  },
  {
   "cell_type": "code",
   "execution_count": 14,
   "id": "82f5fc6a",
   "metadata": {},
   "outputs": [
    {
     "data": {
      "text/plain": [
       "tensor([0, 1, 2, 3, 4])"
      ]
     },
     "execution_count": 14,
     "metadata": {},
     "output_type": "execute_result"
    }
   ],
   "source": [
    "input=torch.empty(2,3)\n",
    "input\n",
    "\n",
    "arange=torch.arange(5)\n",
    "arange"
   ]
  },
  {
   "cell_type": "code",
   "execution_count": null,
   "id": "d8910182",
   "metadata": {},
   "outputs": [
    {
     "data": {
      "text/plain": [
       "tensor([ 3.0000,  4.7500,  6.5000,  8.2500, 10.0000])"
      ]
     },
     "execution_count": 19,
     "metadata": {},
     "output_type": "execute_result"
    }
   ],
   "source": [
    "linspace = torch.linspace(3, 10, steps=5)\n",
    "linspace"
   ]
  },
  {
   "cell_type": "code",
   "execution_count": 20,
   "id": "5ccf2a68",
   "metadata": {},
   "outputs": [
    {
     "data": {
      "text/plain": [
       "tensor([1.0000e-10, 1.0000e-05, 1.0000e+00, 1.0000e+05, 1.0000e+10])"
      ]
     },
     "execution_count": 20,
     "metadata": {},
     "output_type": "execute_result"
    }
   ],
   "source": [
    "logspace=torch.logspace(start=-10,end=10,steps=5)\n",
    "logspace"
   ]
  },
  {
   "cell_type": "code",
   "execution_count": null,
   "id": "55866514",
   "metadata": {},
   "outputs": [
    {
     "data": {
      "text/plain": [
       "tensor([[1., 0., 0., 0., 0.],\n",
       "        [0., 1., 0., 0., 0.],\n",
       "        [0., 0., 1., 0., 0.],\n",
       "        [0., 0., 0., 1., 0.],\n",
       "        [0., 0., 0., 0., 1.]])"
      ]
     },
     "execution_count": 21,
     "metadata": {},
     "output_type": "execute_result"
    }
   ],
   "source": [
    "eye=torch.eye(5)\n",
    "eye #gives a matrix of 5*5"
   ]
  },
  {
   "cell_type": "code",
   "execution_count": 24,
   "id": "814ac356",
   "metadata": {},
   "outputs": [
    {
     "data": {
      "text/plain": [
       "tensor([[0, 0, 0],\n",
       "        [0, 0, 0]])"
      ]
     },
     "execution_count": 24,
     "metadata": {},
     "output_type": "execute_result"
    }
   ],
   "source": [
    "a = torch.empty((2, 3), dtype=torch.int64)\n",
    "empty_like = torch.empty_like(a)\n",
    "empty_like"
   ]
  },
  {
   "cell_type": "code",
   "execution_count": null,
   "id": "8f7d3e81",
   "metadata": {},
   "outputs": [
    {
     "name": "stdout",
     "output_type": "stream",
     "text": [
      "CUDA Available: False\n",
      "Torch Version: 2.7.0+cpu\n",
      "Device Name: No GPU\n",
      "0.00000000\n"
     ]
    }
   ],
   "source": [
    "import time\n",
    "import numpy as np\n",
    "\n",
    "\n",
    "print(\"CUDA Available:\", torch.cuda.is_available())\n",
    "print(\"Torch Version:\", torch.__version__)\n",
    "print(\"Device Name:\", torch.cuda.get_device_name(0) if torch.cuda.is_available() else \"No GPU\")\n",
    "\n",
    "block_size=8\n",
    "batch_size=4\n",
    "\n",
    "start_time=time.time()\n",
    "# matrix operation here\n",
    "zeros=torch.zeros(1,1)\n",
    "end_time=time.time()\n",
    "\n",
    "\n",
    "# As navdia is not supported in windows 11, so we are better using CPU instead if GPU\n",
    "# Therefore it might take some time\n",
    "elapsed_time=end_time-start_time\n",
    "print(f\"{elapsed_time:.8f}\")\n"
   ]
  },
  {
   "cell_type": "code",
   "execution_count": null,
   "metadata": {},
   "outputs": [
    {
     "name": "stdout",
     "output_type": "stream",
     "text": [
      "\n",
      "\n",
      "\n",
      "ONLY A GIRL'S LOVE\n",
      "\n",
      "by\n",
      "\n",
      "CHARLES GARVICE\n",
      "\n",
      "\n",
      "\n",
      "\n",
      "\n",
      "\n",
      "\n",
      "[Illustration]\n",
      "\n",
      "New York\n",
      "Street & Smith, Publishers\n",
      "\n",
      "The S. & S. Novels Have No Rivals\n",
      "\n",
      "\n",
      "STREET & SMITH, _Publishers_\n",
      "NEW YORK\n",
      "\n",
      "\n",
      "ONLY A GIRL'S LOVE.\n",
      "\n",
      "['\\n', ' ', '!', '\"', '&', \"'\", '*', ',', '-', '.', '2', '4', ':', ';', '?', 'A', 'B', 'C', 'D', 'E', 'F', 'G', 'H', 'I', 'J', 'K', 'L', 'M', 'N', 'O', 'P', 'Q', 'R', 'S', 'T', 'U', 'V', 'W', 'X', 'Y', '[', ']', '_', 'a', 'b', 'c', 'd', 'e', 'f', 'g', 'h', 'i', 'j', 'k', 'l', 'm', 'n', 'o', 'p', 'q', 'r', 's', 't', 'u', 'v', 'w', 'x', 'y', 'z', 'æ', 'ê', '\\ufeff']\n",
      "72\n"
     ]
    }
   ],
   "source": [
    "with open('wizardLLM.txt','r',encoding='utf-8') as f:\n",
    "    # for reading the file\n",
    "    text=f.read()\n",
    "    # for printing the 1st 200 texts\n",
    "print(text[:200])\n",
    "\n",
    "# now making a sorted array set for the characters\n",
    "chars=sorted(set(text))\n",
    "print(chars)\n",
    "# printing the length of chars\n",
    "print(len(chars))"
   ]
  },
  {
   "cell_type": "code",
   "execution_count": null,
   "id": "4c14f65b",
   "metadata": {},
   "outputs": [
    {
     "name": "stdout",
     "output_type": "stream",
     "text": [
      "hello\n",
      "tensor([71,  0,  0,  0, 29, 28, 26, 39,  1, 15,  1, 21, 23, 32, 26,  5, 33,  1,\n",
      "        26, 29, 36, 19,  0,  0, 44, 67,  0,  0, 17, 22, 15, 32, 26, 19, 33,  1,\n",
      "        21, 15, 32, 36, 23, 17, 19,  0,  0,  0,  0,  0,  0,  0,  0, 40, 23, 54,\n",
      "        54, 63, 61, 62, 60, 43, 62, 51, 57, 56, 41,  0,  0, 28, 47, 65,  1, 39,\n",
      "        57, 60, 53,  0, 33, 62, 60, 47, 47, 62,  1,  4,  1, 33, 55, 51, 62, 50,\n",
      "         7,  1, 30, 63, 44, 54, 51, 61, 50, 47])\n"
     ]
    }
   ],
   "source": [
    "string_to_int={ch:i for i,ch in enumerate(chars)}\n",
    "int_to_string={i:ch for i,ch in enumerate(chars)}\n",
    "encode=lambda s:[string_to_int[c] for c in s]\n",
    "decode=lambda l: ''.join([int_to_string[i] for i in l])\n",
    "\n",
    "encoded_hello=encode('hello')\n",
    "decoded_hello=decode(encoded_hello)\n",
    "print(decoded_hello)\n",
    "\n",
    "# more better approach for printing is using tensor\n",
    "data=torch.tensor(encode(text),dtype=torch.long)\n",
    "# printing the 1st 100 integers in the data\n",
    "print(data[:100])"
   ]
  },
  {
   "cell_type": "code",
   "execution_count": null,
   "id": "d07afdd7",
   "metadata": {},
   "outputs": [],
   "source": [
    "# validation and training space\n",
    "# EXAMPLE\n",
    "n=int(0.8*len(data))\n",
    "train_data=data[:n]\n",
    "val_data=data[:n]\n",
    "# training is 80% and last 20 % for validation, for the text corpus\n",
    "# using training and validation splits\n"
   ]
  },
  {
   "cell_type": "code",
   "execution_count": null,
   "id": "30c77e87",
   "metadata": {},
   "outputs": [],
   "source": []
  },
  {
   "cell_type": "code",
   "execution_count": null,
   "id": "f8ce2954",
   "metadata": {},
   "outputs": [],
   "source": [
    "# taking block size\n",
    "block_size=8\n",
    "x=train_data[:block_size]\n",
    "y=train_data[1:block_size+1]\n",
    "\n",
    "for t in range(block_size):\n",
    "    context=x[t+1]\n",
    "    target=y[t]\n",
    "    print('when input is ',context,'target is', target)\n",
    "    \n"
   ]
  }
 ],
 "metadata": {
  "kernelspec": {
   "display_name": "Python 3",
   "language": "python",
   "name": "python3"
  },
  "language_info": {
   "codemirror_mode": {
    "name": "ipython",
    "version": 3
   },
   "file_extension": ".py",
   "mimetype": "text/x-python",
   "name": "python",
   "nbconvert_exporter": "python",
   "pygments_lexer": "ipython3",
   "version": "3.12.4"
  }
 },
 "nbformat": 4,
 "nbformat_minor": 5
}
