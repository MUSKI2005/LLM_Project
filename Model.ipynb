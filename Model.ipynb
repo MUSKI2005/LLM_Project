{
 "cells": [
  {
   "cell_type": "code",
   "execution_count": 6,
   "id": "d8bde399",
   "metadata": {},
   "outputs": [],
   "source": [
    "import torch "
   ]
  },
  {
   "cell_type": "code",
   "execution_count": 7,
   "metadata": {},
   "outputs": [
    {
     "name": "stdout",
     "output_type": "stream",
     "text": [
      "\n",
      "\n",
      "\n",
      "ONLY A GIRL'S LOVE\n",
      "\n",
      "by\n",
      "\n",
      "CHARLES GARVICE\n",
      "\n",
      "\n",
      "\n",
      "\n",
      "\n",
      "\n",
      "\n",
      "[Illustration]\n",
      "\n",
      "New York\n",
      "Street & Smith, Publishers\n",
      "\n",
      "The S. & S. Novels Have No Rivals\n",
      "\n",
      "\n",
      "STREET & SMITH, _Publishers_\n",
      "NEW YORK\n",
      "\n",
      "\n",
      "ONLY A GIRL'S LOVE.\n",
      "\n",
      "['\\n', ' ', '!', '\"', '&', \"'\", '*', ',', '-', '.', '2', '4', ':', ';', '?', 'A', 'B', 'C', 'D', 'E', 'F', 'G', 'H', 'I', 'J', 'K', 'L', 'M', 'N', 'O', 'P', 'Q', 'R', 'S', 'T', 'U', 'V', 'W', 'X', 'Y', '[', ']', '_', 'a', 'b', 'c', 'd', 'e', 'f', 'g', 'h', 'i', 'j', 'k', 'l', 'm', 'n', 'o', 'p', 'q', 'r', 's', 't', 'u', 'v', 'w', 'x', 'y', 'z', 'æ', 'ê', '\\ufeff']\n",
      "72\n"
     ]
    }
   ],
   "source": [
    "with open('wizardLLM.txt','r',encoding='utf-8') as f:\n",
    "    # for reading the file\n",
    "    text=f.read()\n",
    "    # for printing the 1st 200 texts\n",
    "print(text[:200])\n",
    "\n",
    "# now making a sorted array set for the characters\n",
    "chars=sorted(set(text))\n",
    "print(chars)\n",
    "# printing the length of chars\n",
    "print(len(chars))"
   ]
  },
  {
   "cell_type": "code",
   "execution_count": null,
   "id": "4c14f65b",
   "metadata": {},
   "outputs": [
    {
     "name": "stdout",
     "output_type": "stream",
     "text": [
      "hello\n"
     ]
    },
    {
     "name": "stdout",
     "output_type": "stream",
     "text": [
      "tensor([71,  0,  0,  0, 29, 28, 26, 39,  1, 15,  1, 21, 23, 32, 26,  5, 33,  1,\n",
      "        26, 29, 36, 19,  0,  0, 44, 67,  0,  0, 17, 22, 15, 32, 26, 19, 33,  1,\n",
      "        21, 15, 32, 36, 23, 17, 19,  0,  0,  0,  0,  0,  0,  0,  0, 40, 23, 54,\n",
      "        54, 63, 61, 62, 60, 43, 62, 51, 57, 56, 41,  0,  0, 28, 47, 65,  1, 39,\n",
      "        57, 60, 53,  0, 33, 62, 60, 47, 47, 62,  1,  4,  1, 33, 55, 51, 62, 50,\n",
      "         7,  1, 30, 63, 44, 54, 51, 61, 50, 47])\n"
     ]
    }
   ],
   "source": [
    "string_to_int={ch:i for i,ch in enumerate(chars)}\n",
    "int_to_string={i:ch for i,ch in enumerate(chars)}\n",
    "encode=lambda s:[string_to_int[c] for c in s]\n",
    "decode=lambda l: ''.join([int_to_string[i] for i in l])\n",
    "\n",
    "encoded_hello=encode('hello')\n",
    "decoded_hello=decode(encoded_hello)\n",
    "print(decoded_hello)\n",
    "\n",
    "# more better approach for printing is using tensor\n",
    "# data=torch.tensor(encode(text),dtype=torch.long)\n",
    "# # printing the 1st 100 integers in the data\n",
    "# print(data[:100])"
   ]
  },
  {
   "cell_type": "code",
   "execution_count": 9,
   "id": "d07afdd7",
   "metadata": {},
   "outputs": [],
   "source": [
    "# validation and training space\n",
    "n=int(0.8*len(data))\n",
    "train_data=data[:n]\n",
    "val_data=data[:n]\n",
    "# training is 80% and last 20 % for validation, for the text corpus\n",
    "# using taraining and validation splits\n"
   ]
  }
 ],
 "metadata": {
  "kernelspec": {
   "display_name": "Python 3",
   "language": "python",
   "name": "python3"
  },
  "language_info": {
   "codemirror_mode": {
    "name": "ipython",
    "version": 3
   },
   "file_extension": ".py",
   "mimetype": "text/x-python",
   "name": "python",
   "nbconvert_exporter": "python",
   "pygments_lexer": "ipython3",
   "version": "3.12.4"
  }
 },
 "nbformat": 4,
 "nbformat_minor": 5
}
